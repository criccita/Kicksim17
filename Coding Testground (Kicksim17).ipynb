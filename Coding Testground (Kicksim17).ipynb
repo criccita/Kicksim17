{
 "cells": [
  {
   "cell_type": "code",
   "execution_count": 12,
   "metadata": {},
   "outputs": [
    {
     "name": "stdout",
     "output_type": "stream",
     "text": [
      "[(4, 12, 3), (2, 1, 2), (6, 4, 3), (1, 1, 4), (2, 2, 1)]\n",
      "[(1, 1, 4), (2, 1, 2), (2, 2, 1), (4, 12, 3), (6, 4, 3)]\n",
      "[(2, 2, 1), (2, 1, 2), (4, 12, 3), (6, 4, 3), (1, 1, 4)]\n"
     ]
    }
   ],
   "source": [
    "#Learning how to sort a list of tuple entries by an entry (e.g 2nd) in the tuple\n",
    "from operator import itemgetter\n",
    "\n",
    "items = [(4, 12,3), (2, 1,2), (6, 4,3), (1, 1, 4), (2, 2,1)]\n",
    "#items.sort()\n",
    "test = sorted(items)\n",
    "test2 = sorted(items, key=itemgetter(2))\n",
    "print items\n",
    "print test\n",
    "print test2"
   ]
  },
  {
   "cell_type": "code",
   "execution_count": 34,
   "metadata": {},
   "outputs": [
    {
     "name": "stdout",
     "output_type": "stream",
     "text": [
      "40\n",
      "10\n",
      "The weights are: \n",
      "20\n",
      "40\n",
      "60\n",
      "80\n",
      "[20, 30, 40]\n"
     ]
    }
   ],
   "source": [
    "weights = [10,20,30,40]\n",
    "print max(weights)\n",
    "print min(weights)\n",
    "print \"The weights are: \" \n",
    "for iweight in range(0,len(weights)):\n",
    "    print weights[iweight]*2\n",
    "   \n",
    "choices = []\n",
    "for iweight in range(0,len(weights)):\n",
    "    if min(weights)<weights[iweight]:\n",
    "        choices.append(weights[iweight])\n",
    "\n",
    "print choices"
   ]
  },
  {
   "cell_type": "code",
   "execution_count": 16,
   "metadata": {},
   "outputs": [
    {
     "name": "stdout",
     "output_type": "stream",
     "text": [
      "[('A', 2, 10), ('B', 10, 2), ('C', 1, 1)]\n",
      "[('C', 1, 1), ('B', 10, 2), ('A', 2, 10)]\n",
      "[1, 2, 10]\n",
      "[('C', 1, 1), ('B', 10, 2)]\n",
      "[('A', 2, 10)]\n",
      "13\n",
      "13\n",
      "3\n",
      "[('C', 1, 1), ('B', 10, 2)]\n",
      "('A', 2, 10)\n"
     ]
    }
   ],
   "source": [
    "from operator import itemgetter\n",
    "items=[(\"A\",2,10),(\"B\",10,2),(\"C\",1,1)] #name, value, price\n",
    "print items\n",
    "rank_items=sorted(items, key=itemgetter(2)) #sort based on price\n",
    "print rank_items\n",
    "\n",
    "#map(function_to_apply, list_of_inputs)\n",
    "\n",
    "weights=map(itemgetter(2),rank_items)\n",
    "choices = []\n",
    "rejects = []\n",
    "print weights\n",
    "\n",
    "for iweight in range(0,len(weights)):\n",
    "    if weights[iweight]<5:\n",
    "        choices.append(rank_items[iweight])\n",
    "    elif weights[iweight]>=5:\n",
    "        rejects.append(rank_items[iweight])\n",
    "        \n",
    "print choices\n",
    "print rejects\n",
    "print sum(weights)\n",
    "print sum(map(itemgetter(2),rank_items))\n",
    "print sum(map(itemgetter(2),rank_items[0:2]))\n",
    "\n",
    "subset=rank_items[0:2] #remember that index starts at 0, upper limit is not inclusive\n",
    "print subset\n",
    "\n",
    "print rank_items[2]"
   ]
  },
  {
   "cell_type": "code",
   "execution_count": 46,
   "metadata": {},
   "outputs": [
    {
     "name": "stdout",
     "output_type": "stream",
     "text": [
      "[[ 0.  0.  0.  0.  0.]\n",
      " [ 0.  0.  0.  0.  0.]\n",
      " [ 0.  0.  0.  0.  0.]\n",
      " [ 0.  0.  0.  0.  5.]\n",
      " [ 0.  0.  0.  0.  0.]]\n",
      "[[ 0.  0.  0.  0.  0.]\n",
      " [ 0.  0.  0.  0.  0.]\n",
      " [ 0.  0.  0.  0.  0.]\n",
      " [ 0.  0.  0.  0.  0.]\n",
      " [ 0.  0.  0.  0.  0.]]\n"
     ]
    }
   ],
   "source": [
    "import numpy as np\n",
    "g=np.zeros((5,5))\n",
    "g[3,4]=5\n",
    "print g\n",
    "\n",
    "x=np.zeros(g.shape)\n",
    "print x"
   ]
  },
  {
   "cell_type": "code",
   "execution_count": 90,
   "metadata": {},
   "outputs": [
    {
     "name": "stdout",
     "output_type": "stream",
     "text": [
      "[('Robben', 'Bayern', 'MIT',  8.5,  84)\n",
      " ('M\\xd9ller', 'Bayern', 'MIT',  8.5, 247)\n",
      " ('Reus', 'Dortmund', 'MIT',  8.5, 128)\n",
      " ('Lewandowski', 'Bayern', 'STU',  8.5, 286)\n",
      " ('Kie\\xa4ling', 'Leverkusen', 'STU',  5. ,  92)\n",
      " ('Neuer', 'Bayern', 'TOR',  5. , 198)\n",
      " ('Naldo', 'Wolfsburg', 'ABW',  5. ,  66)\n",
      " ('Boateng', 'Bayern', 'ABW',  5. ,  91)\n",
      " ('Raffael', 'Gladbach', 'STU',  5. , 170)\n",
      " ('Caligiuri', 'Wolfsburg', 'MIT',  5. ,  37)\n",
      " ('Alaba', 'Bayern', 'ABW',  5. , 119)\n",
      " ('Junuzovic', 'Bremen', 'MIT',  4.8, 112)\n",
      " ('Drmic', 'HSV', 'STU',  4.8, -10)\n",
      " ('Huntelaar', 'Schalke', 'STU',  4.7,  79)\n",
      " ('Meier', 'E. Frankfurt', 'STU',  4.5,  72)\n",
      " ('Hummels', 'Dortmund', 'ABW',  4.5, 148)\n",
      " ('Leno', 'Leverkusen', 'TOR',  4.5, 196)\n",
      " ('Sch\\xd9rrle', 'Wolfsburg', 'MIT',  4.5,  62)\n",
      " ('Draxler', 'Wolfsburg', 'MIT',  4.5,  69)\n",
      " ('Rodriguez', 'Wolfsburg', 'ABW',  4.5,  48)]\n",
      "(20,)\n",
      "[('name', 'S11'), ('club', 'S12'), ('pos', 'S3'), ('value', '<f8'), ('cost', '<i8')]\n",
      "[ 84 247 128 286  92 198  66  91 170  37 119 112 -10  79  72 148 196  62\n",
      "  69  48]\n",
      "[ 8.5  8.5  8.5  8.5  5.   5.   5.   5.   5.   5.   5.   4.8  4.8  4.7  4.5\n",
      "  4.5  4.5  4.5  4.5  4.5]\n",
      "1\n",
      "2\n",
      "3\n",
      "5\n",
      "8\n",
      "10\n",
      "11\n",
      "15\n",
      "16\n",
      "[ 84  92  66  91  37 -10  79  72  62  69  48]\n",
      "11\n",
      "360\n",
      "(11, 400)\n",
      "16\n",
      "100.0\n"
     ]
    }
   ],
   "source": [
    "import numpy as np\n",
    "csv = np.genfromtxt ('dummy_list_subset2.csv', delimiter=\",\", dtype=None, names=['name',\n",
    "                                                                                 'club','pos','value','cost'])\n",
    "\n",
    "print csv\n",
    "print csv.shape\n",
    "print csv[1].dtype\n",
    "\n",
    "prices = csv['cost']\n",
    "\n",
    "print prices\n",
    "\n",
    "\n",
    "#print prices[11]\n",
    "\n",
    "#csv[11]=('Junuzovic', 'Bremen', 'MIT',  4.8, 150)\n",
    "#print prices[11]\n",
    "\n",
    "#prices[11]=7850\n",
    "#print csv[11]\n",
    "\n",
    "remove=[]\n",
    "for j in range(0,len(prices)):\n",
    "    if prices[j]>= 100:\n",
    "        print j\n",
    "        remove.append(j)\n",
    "\n",
    "filt_csv=np.delete(csv,remove,0)\n",
    "prices2=filt_csv['cost']\n",
    "\n",
    "print prices2        \n",
    "print len(filt_csv)\n",
    "\n",
    "print sum(prices2[0:6:1])\n",
    "g = np.zeros([len(filt_csv),400])\n",
    "\n",
    "g[10,360]=100\n",
    "\n",
    "print g.shape\n",
    "print max(remove)\n",
    "\n",
    "\n",
    "print g[10,360]\n"
   ]
  },
  {
   "cell_type": "code",
   "execution_count": 97,
   "metadata": {},
   "outputs": [
    {
     "name": "stdout",
     "output_type": "stream",
     "text": [
      "[('Robben', 'Bayern', 'MIT',  8.5,  84)\n",
      " ('M\\xd9ller', 'Bayern', 'MIT',  8.5, 247)\n",
      " ('Reus', 'Dortmund', 'MIT',  8.5, 128)\n",
      " ('Lewandowski', 'Bayern', 'STU',  8.5, 286)\n",
      " ('Kie\\xa4ling', 'Leverkusen', 'STU',  5. ,  92)\n",
      " ('Neuer', 'Bayern', 'TOR',  5. , 198)\n",
      " ('Naldo', 'Wolfsburg', 'ABW',  5. ,  66)\n",
      " ('Boateng', 'Bayern', 'ABW',  5. ,  91)\n",
      " ('Raffael', 'Gladbach', 'STU',  5. , 170)\n",
      " ('Caligiuri', 'Wolfsburg', 'MIT',  5. ,  37)\n",
      " ('Alaba', 'Bayern', 'ABW',  5. , 119)\n",
      " ('Junuzovic', 'Bremen', 'MIT',  4.8, 112)\n",
      " ('Drmic', 'HSV', 'STU',  4.8, -10)\n",
      " ('Huntelaar', 'Schalke', 'STU',  4.7,  79)\n",
      " ('Meier', 'E. Frankfurt', 'STU',  4.5,  72)\n",
      " ('Hummels', 'Dortmund', 'ABW',  4.5, 148)\n",
      " ('Leno', 'Leverkusen', 'TOR',  4.5, 196)\n",
      " ('Sch\\xd9rrle', 'Wolfsburg', 'MIT',  4.5,  62)\n",
      " ('Draxler', 'Wolfsburg', 'MIT',  4.5,  69)\n",
      " ('Rodriguez', 'Wolfsburg', 'ABW',  4.5,  48)]\n",
      "(20,)\n",
      "[('name', 'S11'), ('club', 'S12'), ('pos', 'S3'), ('value', '<f8'), ('cost', '<i8')]\n",
      "[ 84 247 128 286  92 198  66  91 170  37 119 112 -10  79  72 148 196  62\n",
      "  69  48]\n",
      "[ 8.5  8.5  8.5  8.5  5.   5.   5.   5.   5.   5.   5.   4.8  4.8  4.7  4.5\n",
      "  4.5  4.5  4.5  4.5  4.5]\n",
      "[ 9.  9.  9.  9.  5.  5.  5.  5.  5.  5.  5.  5.  5.  5.  5.  5.  5.  5.\n",
      "  5.  5.]\n",
      "[('name', 'S11'), ('club', 'S12'), ('pos', 'S3'), ('value', '<f8'), ('cost', '<i8')]\n",
      "116\n"
     ]
    }
   ],
   "source": [
    "import numpy as np\n",
    "import math\n",
    "csv = np.genfromtxt ('dummy_list_subset2.csv', delimiter=\",\", dtype=None, names=['name',\n",
    "                                                                                 'club','pos','value','cost'])\n",
    "\n",
    "print csv\n",
    "print csv.shape\n",
    "print csv[1].dtype\n",
    "\n",
    "prices = csv['cost']\n",
    "values = csv['value']\n",
    "\n",
    "print prices\n",
    "print values\n",
    "\n",
    "for i in range(len(values)):\n",
    "    values[i]=int(math.ceil(values[i]))\n",
    "\n",
    "print values\n",
    "\n",
    "print csv[1].dtype\n",
    "\n",
    "print int(sum(values))"
   ]
  },
  {
   "cell_type": "code",
   "execution_count": null,
   "metadata": {
    "collapsed": true
   },
   "outputs": [],
   "source": []
  }
 ],
 "metadata": {
  "kernelspec": {
   "display_name": "Python 2",
   "language": "python",
   "name": "python2"
  },
  "language_info": {
   "codemirror_mode": {
    "name": "ipython",
    "version": 2
   },
   "file_extension": ".py",
   "mimetype": "text/x-python",
   "name": "python",
   "nbconvert_exporter": "python",
   "pygments_lexer": "ipython2",
   "version": "2.7.13"
  }
 },
 "nbformat": 4,
 "nbformat_minor": 2
}
